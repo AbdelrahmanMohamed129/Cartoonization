{
 "cells": [
  {
   "cell_type": "markdown",
   "metadata": {},
   "source": [
    "# Includes"
   ]
  },
  {
   "cell_type": "code",
   "execution_count": 197,
   "metadata": {},
   "outputs": [],
   "source": [
    "from commonfunctions import *\n",
    "import cv2"
   ]
  },
  {
   "cell_type": "markdown",
   "metadata": {},
   "source": [
    "## Left Pipeline\n",
    "- Gray Conversion\n",
    "- Noise Removal\n",
    "- Edge Detection\n",
    "- Dilation"
   ]
  },
  {
   "cell_type": "markdown",
   "metadata": {},
   "source": [
    "### Gray Conversion"
   ]
  },
  {
   "cell_type": "code",
   "execution_count": 198,
   "metadata": {},
   "outputs": [],
   "source": [
    "def grayConversion(frame):\n",
    "    # conversion of BGR to grayscale is necessary to apply this operation\n",
    "    gray = cv2.cvtColor(frame, cv2.COLOR_BGR2GRAY)\n",
    "    return gray"
   ]
  },
  {
   "cell_type": "markdown",
   "metadata": {},
   "source": [
    "### Sharpening"
   ]
  },
  {
   "cell_type": "code",
   "execution_count": 199,
   "metadata": {},
   "outputs": [],
   "source": [
    "def sharpen(frame):\n",
    "    # sharpening the image\n",
    "    kernel = np.array([[-1,-1,-1], [-1,9,-1], [-1,-1,-1]])\n",
    "    sharpened = cv2.filter2D(frame, -1, kernel)\n",
    "    return sharpened\n",
    "\n",
    "    # # gaussian filter\n",
    "    # blur = cv2.GaussianBlur(frame, (5,5), 0)\n",
    "    # # unsharp masking\n",
    "    # sharpened = cv2.addWeighted(frame, 1.5, blur, -0.5, 0)\n",
    "    # return sharpened\n"
   ]
  },
  {
   "cell_type": "markdown",
   "metadata": {},
   "source": [
    "### Noise Removal"
   ]
  },
  {
   "cell_type": "code",
   "execution_count": 200,
   "metadata": {},
   "outputs": [],
   "source": [
    "def noiseRemoval(frame):\n",
    "    # noise removal using median filter\n",
    "    median = cv2.medianBlur(frame, 11)\n",
    "    # gaussian\n",
    "    blur = cv2.GaussianBlur(median, (3,3), 0)\n",
    "    return blur"
   ]
  },
  {
   "cell_type": "markdown",
   "metadata": {},
   "source": [
    "### Edge Detection"
   ]
  },
  {
   "cell_type": "code",
   "execution_count": 201,
   "metadata": {},
   "outputs": [],
   "source": [
    "# canny edge detector\n",
    "def cannyDetector(frame):\n",
    "    # canny = cv2.adaptiveThreshold(frame, 255, cv2.ADAPTIVE_THRESH_MEAN_C, cv2.THRESH_BINARY, 11, 2)\n",
    "    # canny edge detector\n",
    "    canny = cv2.Canny(frame, 150, 190)\n",
    "    return canny \n"
   ]
  },
  {
   "cell_type": "markdown",
   "metadata": {},
   "source": [
    "### Dilation"
   ]
  },
  {
   "cell_type": "code",
   "execution_count": 202,
   "metadata": {},
   "outputs": [],
   "source": [
    "# dilation\n",
    "def dilation(frame):\n",
    "    # dilation\n",
    "    kernel = np.ones((2, 2), np.uint8)\n",
    "    dilation = cv2.dilate(frame, kernel, iterations=1)\n",
    "    \n",
    "    return dilation"
   ]
  },
  {
   "cell_type": "markdown",
   "metadata": {},
   "source": [
    "### Color Conversion"
   ]
  },
  {
   "cell_type": "code",
   "execution_count": 203,
   "metadata": {},
   "outputs": [],
   "source": [
    "def colorConversion(frame):\n",
    "    # conversion of GRAY to BGR\n",
    "    BGR = cv2.cvtColor(frame, cv2.COLOR_GRAY2RGB)\n",
    "    return BGR"
   ]
  },
  {
   "cell_type": "code",
   "execution_count": 204,
   "metadata": {},
   "outputs": [],
   "source": [
    "def leftPipeline(frame):\n",
    "    gray        = grayConversion(frame)\n",
    "    denoised    = noiseRemoval(gray)\n",
    "    sharpened   = sharpen(denoised)\n",
    "    canny       = cannyDetector(sharpened)\n",
    "    dilated     = dilation(canny)\n",
    "    # BGR         = colorConversion(dilated)\n",
    "    dilated = 255 - dilated\n",
    "    return dilated"
   ]
  },
  {
   "cell_type": "markdown",
   "metadata": {},
   "source": [
    "## Right Pipeline\n",
    "- Separating RGB Channels\n",
    "- Average Filtering\n",
    "- Color Quantization\n",
    "- Combining RGB Channels"
   ]
  },
  {
   "cell_type": "markdown",
   "metadata": {},
   "source": [
    "### Separating RGB channels"
   ]
  },
  {
   "cell_type": "code",
   "execution_count": 205,
   "metadata": {},
   "outputs": [],
   "source": [
    "def separateRGB(frame):\n",
    "    # separate the RGB channels\n",
    "    b, g, r = cv2.split(frame)\n",
    "    return b, g, r"
   ]
  },
  {
   "cell_type": "markdown",
   "metadata": {},
   "source": [
    "### Average Filtering"
   ]
  },
  {
   "cell_type": "code",
   "execution_count": 206,
   "metadata": {},
   "outputs": [],
   "source": [
    "def averageFilter(b, g, r):\n",
    "    # average filter\n",
    "    b = cv2.blur(b, (5,5))\n",
    "    g = cv2.blur(g, (5,5))\n",
    "    r = cv2.blur(r, (5,5))\n",
    "    return b, g, r"
   ]
  },
  {
   "attachments": {
    "image.png": {
     "image/png": "[encoded data removed]"
    }
   },
   "cell_type": "markdown",
   "metadata": {},
   "source": [
    "### Color Quantization\n",
    "![image.png](attachment:image.png)"
   ]
  },
  {
   "cell_type": "code",
   "execution_count": 207,
   "metadata": {},
   "outputs": [],
   "source": [
    "def quantize(b, g, r):\n",
    "    x = 200\n",
    "    y = 180\n",
    "    \n",
    "    # quantize the image\n",
    "    b = np.uint8(b/(x - y))*(x + (y // 2))\n",
    "    g = np.uint8(g/(x - y))*(x + (y // 2))\n",
    "    r = np.uint8(r/(x - y))*(x + (y // 2))\n",
    "\n",
    "    # normalize\n",
    "    b = np.uint8(b/np.max(b)*255)\n",
    "    g = np.uint8(g/np.max(g)*255)\n",
    "    r = np.uint8(r/np.max(r)*255)\n",
    "\n",
    "    return b, g, r"
   ]
  },
  {
   "cell_type": "markdown",
   "metadata": {},
   "source": [
    "### Combining RGB Channels"
   ]
  },
  {
   "cell_type": "code",
   "execution_count": 208,
   "metadata": {},
   "outputs": [],
   "source": [
    "def combine(b, g, r):\n",
    "    # combine the channels\n",
    "    combined = cv2.merge((b, g, r))\n",
    "    return combined"
   ]
  },
  {
   "cell_type": "code",
   "execution_count": 209,
   "metadata": {},
   "outputs": [],
   "source": [
    "def rightPipeline(frame):\n",
    "    b, g, r = separateRGB(frame)\n",
    "    b, g, r = averageFilter(b, g, r)\n",
    "    b, g, r = quantize(b, g, r)\n",
    "    combined = combine(b, g, r)\n",
    "    \n",
    "    return combined"
   ]
  },
  {
   "cell_type": "markdown",
   "metadata": {},
   "source": [
    "## Reading the video frame by frame"
   ]
  },
  {
   "cell_type": "code",
   "execution_count": 210,
   "metadata": {},
   "outputs": [],
   "source": [
    "# Creating a VideoCapture object to read the video\n",
    "cap = cv2.VideoCapture('data/Succession-Season-1-1080.mp4')\n",
    "\n",
    "# Loop until the end of the video\n",
    "while (cap.isOpened()):\n",
    "    # Capture frame-by-frame\n",
    "    ret, frame = cap.read()\n",
    "\n",
    "    frame = cv2.imread(\"data/Farah3.jpeg\", cv2.IMREAD_COLOR)\n",
    "\n",
    "    frame = cv2.resize(frame, (540, 380), fx = 0, fy = 0,\n",
    "                         interpolation = cv2.INTER_CUBIC)\n",
    "    \n",
    "    # Display the resulting frame\n",
    "    cv2.imshow('Frame', frame)\n",
    " \n",
    "    # conversion of BGR to grayscale is necessary to apply this operation\n",
    "    leftPipe = leftPipeline(frame)\n",
    "    rightPipe = rightPipeline(frame)\n",
    "    combined = cv2.bitwise_and(rightPipe, rightPipe, mask=leftPipe)\n",
    "    \n",
    "    cv2.imshow('left', leftPipe)\n",
    "    cv2.imshow('right', rightPipe)\n",
    "    cv2.imshow('da5alo f ba3d', combined)\n",
    "\n",
    "    \n",
    "    # define q as the exit button\n",
    "    if cv2.waitKey(25) & 0xFF == ord('q'):\n",
    "        break\n",
    " \n",
    "# release the video capture object\n",
    "cap.release()\n",
    "# Closes all the windows currently opened.\n",
    "cv2.destroyAllWindows()"
   ]
  }
 ],
 "metadata": {
  "kernelspec": {
   "display_name": "base",
   "language": "python",
   "name": "python3"
  },
  "language_info": {
   "codemirror_mode": {
    "name": "ipython",
    "version": 3
   },
   "file_extension": ".py",
   "mimetype": "text/x-python",
   "name": "python",
   "nbconvert_exporter": "python",
   "pygments_lexer": "ipython3",
   "version": "3.11.5"
  }
 },
 "nbformat": 4,
 "nbformat_minor": 2
}
